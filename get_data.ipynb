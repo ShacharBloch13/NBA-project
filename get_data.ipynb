{
 "cells": [
  {
   "cell_type": "code",
   "execution_count": 5,
   "metadata": {
    "ExecuteTime": {
     "end_time": "2024-03-16T17:01:20.139542Z",
     "start_time": "2024-03-16T17:01:19.920833900Z"
    }
   },
   "outputs": [],
   "source": [
    "import os\n",
    "from bs4 import BeautifulSoup\n",
    "import asyncio\n",
    "from playwright.async_api import async_playwright\n",
    "import time"
   ]
  },
  {
   "cell_type": "code",
   "execution_count": 2,
   "metadata": {
    "ExecuteTime": {
     "end_time": "2024-03-16T17:00:19.546069500Z",
     "start_time": "2024-03-16T17:00:13.206818100Z"
    }
   },
   "outputs": [
    {
     "name": "stdout",
     "output_type": "stream",
     "text": [
      "Requirement already satisfied: beautifulsoup4 in c:\\users\\user\\anaconda3\\lib\\site-packages (4.12.2)\n",
      "Requirement already satisfied: soupsieve>1.2 in c:\\users\\user\\anaconda3\\lib\\site-packages (from beautifulsoup4) (2.4)\n",
      "Note: you may need to restart the kernel to use updated packages.\n"
     ]
    }
   ],
   "source": [
    "%pip install beautifulsoup4"
   ]
  },
  {
   "cell_type": "code",
   "execution_count": 3,
   "metadata": {
    "ExecuteTime": {
     "end_time": "2024-03-16T17:00:34.062318Z",
     "start_time": "2024-03-16T17:00:22.895168900Z"
    }
   },
   "outputs": [
    {
     "name": "stdout",
     "output_type": "stream",
     "text": [
      "Collecting playwright\n",
      "  Obtaining dependency information for playwright from https://files.pythonhosted.org/packages/68/c7/49a1d08ddb29f4c0c71ad3a1e7ca3c23e40f7075a99574fe5dbf228fda05/playwright-1.42.0-py3-none-win_amd64.whl.metadata\n",
      "  Downloading playwright-1.42.0-py3-none-win_amd64.whl.metadata (3.5 kB)\n",
      "Collecting greenlet==3.0.3 (from playwright)\n",
      "  Obtaining dependency information for greenlet==3.0.3 from https://files.pythonhosted.org/packages/47/79/26d54d7d700ef65b689fc2665a40846d13e834da0486674a8d4f0f371a47/greenlet-3.0.3-cp311-cp311-win_amd64.whl.metadata\n",
      "  Downloading greenlet-3.0.3-cp311-cp311-win_amd64.whl.metadata (3.9 kB)\n",
      "Collecting pyee==11.0.1 (from playwright)\n",
      "  Obtaining dependency information for pyee==11.0.1 from https://files.pythonhosted.org/packages/7a/40/bfe7fd2cb55ca7dbb4c56e9f0060567c3e84dd9bdf8a782261f1d2d7c32f/pyee-11.0.1-py3-none-any.whl.metadata\n",
      "  Downloading pyee-11.0.1-py3-none-any.whl.metadata (2.7 kB)\n",
      "Requirement already satisfied: typing-extensions in c:\\users\\user\\anaconda3\\lib\\site-packages (from pyee==11.0.1->playwright) (4.7.1)\n",
      "Downloading playwright-1.42.0-py3-none-win_amd64.whl (29.4 MB)\n",
      "   ---------------------------------------- 0.0/29.4 MB ? eta -:--:--\n",
      "   ---------------------------------------- 0.0/29.4 MB 640.0 kB/s eta 0:00:46\n",
      "   ---------------------------------------- 0.1/29.4 MB 544.7 kB/s eta 0:00:54\n",
      "   ---------------------------------------- 0.1/29.4 MB 930.9 kB/s eta 0:00:32\n",
      "   ---------------------------------------- 0.2/29.4 MB 1.1 MB/s eta 0:00:28\n",
      "   ---------------------------------------- 0.2/29.4 MB 1.2 MB/s eta 0:00:25\n",
      "   ---------------------------------------- 0.4/29.4 MB 1.4 MB/s eta 0:00:21\n",
      "    --------------------------------------- 0.4/29.4 MB 1.3 MB/s eta 0:00:23\n",
      "    --------------------------------------- 0.6/29.4 MB 1.6 MB/s eta 0:00:18\n",
      "    --------------------------------------- 0.7/29.4 MB 1.8 MB/s eta 0:00:16\n",
      "   - -------------------------------------- 1.0/29.4 MB 2.4 MB/s eta 0:00:12\n",
      "   -- ------------------------------------- 1.5/29.4 MB 3.2 MB/s eta 0:00:09\n",
      "   -- ------------------------------------- 2.2/29.4 MB 4.2 MB/s eta 0:00:07\n",
      "   --- ------------------------------------ 2.8/29.4 MB 5.0 MB/s eta 0:00:06\n",
      "   ----- ---------------------------------- 4.1/29.4 MB 6.9 MB/s eta 0:00:04\n",
      "   ------ --------------------------------- 5.1/29.4 MB 8.1 MB/s eta 0:00:04\n",
      "   ------ --------------------------------- 5.1/29.4 MB 8.1 MB/s eta 0:00:04\n",
      "   ------- -------------------------------- 5.2/29.4 MB 7.2 MB/s eta 0:00:04\n",
      "   --------- ------------------------------ 6.7/29.4 MB 8.7 MB/s eta 0:00:03\n",
      "   ---------- ----------------------------- 8.0/29.4 MB 10.0 MB/s eta 0:00:03\n",
      "   ----------- ---------------------------- 8.7/29.4 MB 10.3 MB/s eta 0:00:03\n",
      "   ----------- ---------------------------- 8.7/29.4 MB 10.3 MB/s eta 0:00:03\n",
      "   ----------- ---------------------------- 8.7/29.4 MB 10.3 MB/s eta 0:00:03\n",
      "   ----------- ---------------------------- 8.7/29.4 MB 10.3 MB/s eta 0:00:03\n",
      "   ----------- ---------------------------- 8.7/29.4 MB 10.3 MB/s eta 0:00:03\n",
      "   ----------- ---------------------------- 8.7/29.4 MB 8.2 MB/s eta 0:00:03\n",
      "   ------------------- -------------------- 14.5/29.4 MB 21.1 MB/s eta 0:00:01\n",
      "   -------------------- ------------------- 14.8/29.4 MB 19.3 MB/s eta 0:00:01\n",
      "   --------------------- ------------------ 15.5/29.4 MB 22.6 MB/s eta 0:00:01\n",
      "   ---------------------- ----------------- 16.7/29.4 MB 22.6 MB/s eta 0:00:01\n",
      "   ----------------------- ---------------- 17.2/29.4 MB 21.1 MB/s eta 0:00:01\n",
      "   ----------------------- ---------------- 17.4/29.4 MB 19.3 MB/s eta 0:00:01\n",
      "   ------------------------- -------------- 18.9/29.4 MB 20.5 MB/s eta 0:00:01\n",
      "   ------------------------- -------------- 18.9/29.4 MB 20.5 MB/s eta 0:00:01\n",
      "   -------------------------- ------------- 19.5/29.4 MB 28.5 MB/s eta 0:00:01\n",
      "   --------------------------- ------------ 20.3/29.4 MB 26.2 MB/s eta 0:00:01\n",
      "   ----------------------------- ---------- 21.4/29.4 MB 23.4 MB/s eta 0:00:01\n",
      "   ------------------------------ --------- 22.7/29.4 MB 21.1 MB/s eta 0:00:01\n",
      "   ------------------------------- -------- 23.5/29.4 MB 20.5 MB/s eta 0:00:01\n",
      "   --------------------------------- ------ 24.6/29.4 MB 18.7 MB/s eta 0:00:01\n",
      "   --------------------------------- ------ 25.0/29.4 MB 19.3 MB/s eta 0:00:01\n",
      "   ----------------------------------- ---- 26.0/29.4 MB 19.3 MB/s eta 0:00:01\n",
      "   ------------------------------------ --- 26.9/29.4 MB 18.7 MB/s eta 0:00:01\n",
      "   -------------------------------------- - 28.1/29.4 MB 21.1 MB/s eta 0:00:01\n",
      "   ---------------------------------------  29.4/29.4 MB 24.2 MB/s eta 0:00:01\n",
      "   ---------------------------------------  29.4/29.4 MB 24.2 MB/s eta 0:00:01\n",
      "   ---------------------------------------- 29.4/29.4 MB 20.4 MB/s eta 0:00:00\n",
      "Downloading greenlet-3.0.3-cp311-cp311-win_amd64.whl (292 kB)\n",
      "   ---------------------------------------- 0.0/292.8 kB ? eta -:--:--\n",
      "   --------------------------------------- 292.8/292.8 kB 17.7 MB/s eta 0:00:00\n",
      "Downloading pyee-11.0.1-py3-none-any.whl (15 kB)\n",
      "Installing collected packages: pyee, greenlet, playwright\n",
      "  Attempting uninstall: greenlet\n",
      "    Found existing installation: greenlet 2.0.1\n",
      "    Uninstalling greenlet-2.0.1:\n",
      "      Successfully uninstalled greenlet-2.0.1\n",
      "Successfully installed greenlet-3.0.3 playwright-1.42.0 pyee-11.0.1\n",
      "Note: you may need to restart the kernel to use updated packages.\n"
     ]
    }
   ],
   "source": [
    "%pip install playwright"
   ]
  },
  {
   "cell_type": "code",
   "execution_count": 4,
   "metadata": {
    "ExecuteTime": {
     "end_time": "2024-03-16T17:01:15.945464700Z",
     "start_time": "2024-03-16T17:00:38.557158600Z"
    }
   },
   "outputs": [
    {
     "name": "stdout",
     "output_type": "stream",
     "text": [
      "^C\n"
     ]
    }
   ],
   "source": [
    "!playwright install"
   ]
  },
  {
   "cell_type": "code",
   "execution_count": 6,
   "metadata": {
    "ExecuteTime": {
     "end_time": "2024-03-16T17:01:26.398187600Z",
     "start_time": "2024-03-16T17:01:26.397691100Z"
    }
   },
   "outputs": [],
   "source": [
    "SEASONS = list(range(2016,2023))"
   ]
  },
  {
   "cell_type": "code",
   "execution_count": 7,
   "metadata": {
    "ExecuteTime": {
     "end_time": "2024-03-16T17:01:29.782452100Z",
     "start_time": "2024-03-16T17:01:29.780442600Z"
    }
   },
   "outputs": [],
   "source": [
    "DATA_DIR = \"data\"\n",
    "STANDINGS_DIR = os.path.join(DATA_DIR, \"standings\")\n",
    "SCORES_DIR = os.path.join(DATA_DIR, \"scores\")"
   ]
  },
  {
   "cell_type": "code",
   "execution_count": 8,
   "metadata": {
    "ExecuteTime": {
     "end_time": "2024-03-16T17:01:32.649221500Z",
     "start_time": "2024-03-16T17:01:32.649221500Z"
    }
   },
   "outputs": [],
   "source": [
    "async def get_html(url, selector, sleep=5, retries=3):\n",
    "    html = None\n",
    "    for i in range(1, retries + 1):\n",
    "        await asyncio.sleep(sleep * i)  # Use asyncio.sleep for async compatibility\n",
    "        try:\n",
    "            async with async_playwright() as p:\n",
    "                browser = await p.chromium.launch()\n",
    "                page = await browser.new_page()  # Corrected variable name\n",
    "                await page.goto(url)\n",
    "                print(await page.title())\n",
    "                html = await page.inner_html(selector)\n",
    "                await browser.close()  # Ensure the browser is closed after operation\n",
    "                break  # Exit the loop if successful\n",
    "        except Exception as e:  # Consider broad exception handling or specific exceptions\n",
    "            print(f\"Attempt {i} failed with error: {str(e)}\")\n",
    "            continue\n",
    "    return html\n",
    "    "
   ]
  },
  {
   "cell_type": "code",
   "execution_count": 9,
   "metadata": {
    "ExecuteTime": {
     "end_time": "2024-03-16T17:01:37.487307500Z",
     "start_time": "2024-03-16T17:01:37.455334800Z"
    }
   },
   "outputs": [],
   "source": [
    "async def scrape_season(season):\n",
    "    url = f\"https://www.basketball-reference.com/leagues/NBA_{season}_games.html\"\n",
    "    html = await get_html(url, \"#content .filter\")\n",
    "    if html is None:\n",
    "        print(f\"Failed to retrieve HTML for season {season}\")\n",
    "        return  # Skip this season or handle the error as appropriate\n",
    "\n",
    "    soup = BeautifulSoup(html, 'html.parser')  # Ensure you specify the parser\n",
    "    links = soup.find_all(\"a\")\n",
    "    standings_pages = [f\"https://www.basketball-reference.com{l['href']}\" for l in links if 'href' in l.attrs]\n",
    "\n",
    "    for url in standings_pages:\n",
    "        save_path = os.path.join(STANDINGS_DIR, url.split(\"/\")[-1])\n",
    "        if os.path.exists(save_path):\n",
    "            continue\n",
    "        \n",
    "        html = await get_html(url, \"#all_schedule\")\n",
    "        if html is None:\n",
    "            print(f\"Failed to retrieve HTML for URL: {url}\")\n",
    "            continue  # Skip this URL or handle the error as appropriate\n",
    "\n",
    "        with open(save_path, \"w+\") as f:\n",
    "            f.write(html)\n"
   ]
  },
  {
   "cell_type": "code",
   "execution_count": 10,
   "metadata": {
    "ExecuteTime": {
     "end_time": "2024-03-16T17:02:28.349855900Z",
     "start_time": "2024-03-16T17:01:43.147019300Z"
    }
   },
   "outputs": [
    {
     "name": "stderr",
     "output_type": "stream",
     "text": [
      "Task exception was never retrieved\n",
      "future: <Task finished name='Task-5' coro=<Connection.run() done, defined at C:\\Users\\user\\anaconda3\\Lib\\site-packages\\playwright\\_impl\\_connection.py:265> exception=NotImplementedError()>\n",
      "Traceback (most recent call last):\n",
      "  File \"C:\\Users\\user\\anaconda3\\Lib\\site-packages\\playwright\\_impl\\_connection.py\", line 272, in run\n",
      "    await self._transport.connect()\n",
      "  File \"C:\\Users\\user\\anaconda3\\Lib\\site-packages\\playwright\\_impl\\_transport.py\", line 135, in connect\n",
      "    raise exc\n",
      "  File \"C:\\Users\\user\\anaconda3\\Lib\\site-packages\\playwright\\_impl\\_transport.py\", line 123, in connect\n",
      "    self._proc = await asyncio.create_subprocess_exec(\n",
      "                 ^^^^^^^^^^^^^^^^^^^^^^^^^^^^^^^^^^^^^\n",
      "  File \"C:\\Users\\user\\anaconda3\\Lib\\asyncio\\subprocess.py\", line 221, in create_subprocess_exec\n",
      "    transport, protocol = await loop.subprocess_exec(\n",
      "                          ^^^^^^^^^^^^^^^^^^^^^^^^^^^\n",
      "  File \"C:\\Users\\user\\anaconda3\\Lib\\asyncio\\base_events.py\", line 1694, in subprocess_exec\n",
      "    transport = await self._make_subprocess_transport(\n",
      "                ^^^^^^^^^^^^^^^^^^^^^^^^^^^^^^^^^^^^^^\n",
      "  File \"C:\\Users\\user\\anaconda3\\Lib\\asyncio\\base_events.py\", line 502, in _make_subprocess_transport\n",
      "    raise NotImplementedError\n",
      "NotImplementedError\n"
     ]
    },
    {
     "name": "stdout",
     "output_type": "stream",
     "text": [
      "Attempt 1 failed with error: \n"
     ]
    },
    {
     "name": "stderr",
     "output_type": "stream",
     "text": [
      "Task exception was never retrieved\n",
      "future: <Task finished name='Task-6' coro=<Connection.run() done, defined at C:\\Users\\user\\anaconda3\\Lib\\site-packages\\playwright\\_impl\\_connection.py:265> exception=NotImplementedError()>\n",
      "Traceback (most recent call last):\n",
      "  File \"C:\\Users\\user\\anaconda3\\Lib\\site-packages\\playwright\\_impl\\_connection.py\", line 272, in run\n",
      "    await self._transport.connect()\n",
      "  File \"C:\\Users\\user\\anaconda3\\Lib\\site-packages\\playwright\\_impl\\_transport.py\", line 135, in connect\n",
      "    raise exc\n",
      "  File \"C:\\Users\\user\\anaconda3\\Lib\\site-packages\\playwright\\_impl\\_transport.py\", line 123, in connect\n",
      "    self._proc = await asyncio.create_subprocess_exec(\n",
      "                 ^^^^^^^^^^^^^^^^^^^^^^^^^^^^^^^^^^^^^\n",
      "  File \"C:\\Users\\user\\anaconda3\\Lib\\asyncio\\subprocess.py\", line 221, in create_subprocess_exec\n",
      "    transport, protocol = await loop.subprocess_exec(\n",
      "                          ^^^^^^^^^^^^^^^^^^^^^^^^^^^\n",
      "  File \"C:\\Users\\user\\anaconda3\\Lib\\asyncio\\base_events.py\", line 1694, in subprocess_exec\n",
      "    transport = await self._make_subprocess_transport(\n",
      "                ^^^^^^^^^^^^^^^^^^^^^^^^^^^^^^^^^^^^^^\n",
      "  File \"C:\\Users\\user\\anaconda3\\Lib\\asyncio\\base_events.py\", line 502, in _make_subprocess_transport\n",
      "    raise NotImplementedError\n",
      "NotImplementedError\n"
     ]
    },
    {
     "name": "stdout",
     "output_type": "stream",
     "text": [
      "Attempt 2 failed with error: \n"
     ]
    },
    {
     "name": "stderr",
     "output_type": "stream",
     "text": [
      "Task exception was never retrieved\n",
      "future: <Task finished name='Task-7' coro=<Connection.run() done, defined at C:\\Users\\user\\anaconda3\\Lib\\site-packages\\playwright\\_impl\\_connection.py:265> exception=NotImplementedError()>\n",
      "Traceback (most recent call last):\n",
      "  File \"C:\\Users\\user\\anaconda3\\Lib\\site-packages\\playwright\\_impl\\_connection.py\", line 272, in run\n",
      "    await self._transport.connect()\n",
      "  File \"C:\\Users\\user\\anaconda3\\Lib\\site-packages\\playwright\\_impl\\_transport.py\", line 135, in connect\n",
      "    raise exc\n",
      "  File \"C:\\Users\\user\\anaconda3\\Lib\\site-packages\\playwright\\_impl\\_transport.py\", line 123, in connect\n",
      "    self._proc = await asyncio.create_subprocess_exec(\n",
      "                 ^^^^^^^^^^^^^^^^^^^^^^^^^^^^^^^^^^^^^\n",
      "  File \"C:\\Users\\user\\anaconda3\\Lib\\asyncio\\subprocess.py\", line 221, in create_subprocess_exec\n",
      "    transport, protocol = await loop.subprocess_exec(\n",
      "                          ^^^^^^^^^^^^^^^^^^^^^^^^^^^\n",
      "  File \"C:\\Users\\user\\anaconda3\\Lib\\asyncio\\base_events.py\", line 1694, in subprocess_exec\n",
      "    transport = await self._make_subprocess_transport(\n",
      "                ^^^^^^^^^^^^^^^^^^^^^^^^^^^^^^^^^^^^^^\n",
      "  File \"C:\\Users\\user\\anaconda3\\Lib\\asyncio\\base_events.py\", line 502, in _make_subprocess_transport\n",
      "    raise NotImplementedError\n",
      "NotImplementedError\n"
     ]
    },
    {
     "name": "stdout",
     "output_type": "stream",
     "text": [
      "Attempt 3 failed with error: \n",
      "Failed to retrieve HTML for season 2016\n"
     ]
    },
    {
     "name": "stderr",
     "output_type": "stream",
     "text": [
      "Task exception was never retrieved\n",
      "future: <Task finished name='Task-8' coro=<Connection.run() done, defined at C:\\Users\\user\\anaconda3\\Lib\\site-packages\\playwright\\_impl\\_connection.py:265> exception=NotImplementedError()>\n",
      "Traceback (most recent call last):\n",
      "  File \"C:\\Users\\user\\anaconda3\\Lib\\site-packages\\playwright\\_impl\\_connection.py\", line 272, in run\n",
      "    await self._transport.connect()\n",
      "  File \"C:\\Users\\user\\anaconda3\\Lib\\site-packages\\playwright\\_impl\\_transport.py\", line 135, in connect\n",
      "    raise exc\n",
      "  File \"C:\\Users\\user\\anaconda3\\Lib\\site-packages\\playwright\\_impl\\_transport.py\", line 123, in connect\n",
      "    self._proc = await asyncio.create_subprocess_exec(\n",
      "                 ^^^^^^^^^^^^^^^^^^^^^^^^^^^^^^^^^^^^^\n",
      "  File \"C:\\Users\\user\\anaconda3\\Lib\\asyncio\\subprocess.py\", line 221, in create_subprocess_exec\n",
      "    transport, protocol = await loop.subprocess_exec(\n",
      "                          ^^^^^^^^^^^^^^^^^^^^^^^^^^^\n",
      "  File \"C:\\Users\\user\\anaconda3\\Lib\\asyncio\\base_events.py\", line 1694, in subprocess_exec\n",
      "    transport = await self._make_subprocess_transport(\n",
      "                ^^^^^^^^^^^^^^^^^^^^^^^^^^^^^^^^^^^^^^\n",
      "  File \"C:\\Users\\user\\anaconda3\\Lib\\asyncio\\base_events.py\", line 502, in _make_subprocess_transport\n",
      "    raise NotImplementedError\n",
      "NotImplementedError\n"
     ]
    },
    {
     "name": "stdout",
     "output_type": "stream",
     "text": [
      "Attempt 1 failed with error: \n"
     ]
    },
    {
     "ename": "CancelledError",
     "evalue": "",
     "output_type": "error",
     "traceback": [
      "\u001B[1;31m---------------------------------------------------------------------------\u001B[0m",
      "\u001B[1;31mCancelledError\u001B[0m                            Traceback (most recent call last)",
      "Cell \u001B[1;32mIn[10], line 2\u001B[0m\n\u001B[0;32m      1\u001B[0m \u001B[38;5;28;01mfor\u001B[39;00m season \u001B[38;5;129;01min\u001B[39;00m SEASONS:\n\u001B[1;32m----> 2\u001B[0m     \u001B[38;5;28;01mawait\u001B[39;00m scrape_season(season)\n",
      "Cell \u001B[1;32mIn[9], line 3\u001B[0m, in \u001B[0;36mscrape_season\u001B[1;34m(season)\u001B[0m\n\u001B[0;32m      1\u001B[0m \u001B[38;5;28;01masync\u001B[39;00m \u001B[38;5;28;01mdef\u001B[39;00m \u001B[38;5;21mscrape_season\u001B[39m(season):\n\u001B[0;32m      2\u001B[0m     url \u001B[38;5;241m=\u001B[39m \u001B[38;5;124mf\u001B[39m\u001B[38;5;124m\"\u001B[39m\u001B[38;5;124mhttps://www.basketball-reference.com/leagues/NBA_\u001B[39m\u001B[38;5;132;01m{\u001B[39;00mseason\u001B[38;5;132;01m}\u001B[39;00m\u001B[38;5;124m_games.html\u001B[39m\u001B[38;5;124m\"\u001B[39m\n\u001B[1;32m----> 3\u001B[0m     html \u001B[38;5;241m=\u001B[39m \u001B[38;5;28;01mawait\u001B[39;00m get_html(url, \u001B[38;5;124m\"\u001B[39m\u001B[38;5;124m#content .filter\u001B[39m\u001B[38;5;124m\"\u001B[39m)\n\u001B[0;32m      4\u001B[0m     \u001B[38;5;28;01mif\u001B[39;00m html \u001B[38;5;129;01mis\u001B[39;00m \u001B[38;5;28;01mNone\u001B[39;00m:\n\u001B[0;32m      5\u001B[0m         \u001B[38;5;28mprint\u001B[39m(\u001B[38;5;124mf\u001B[39m\u001B[38;5;124m\"\u001B[39m\u001B[38;5;124mFailed to retrieve HTML for season \u001B[39m\u001B[38;5;132;01m{\u001B[39;00mseason\u001B[38;5;132;01m}\u001B[39;00m\u001B[38;5;124m\"\u001B[39m)\n",
      "Cell \u001B[1;32mIn[8], line 4\u001B[0m, in \u001B[0;36mget_html\u001B[1;34m(url, selector, sleep, retries)\u001B[0m\n\u001B[0;32m      2\u001B[0m html \u001B[38;5;241m=\u001B[39m \u001B[38;5;28;01mNone\u001B[39;00m\n\u001B[0;32m      3\u001B[0m \u001B[38;5;28;01mfor\u001B[39;00m i \u001B[38;5;129;01min\u001B[39;00m \u001B[38;5;28mrange\u001B[39m(\u001B[38;5;241m1\u001B[39m, retries \u001B[38;5;241m+\u001B[39m \u001B[38;5;241m1\u001B[39m):\n\u001B[1;32m----> 4\u001B[0m     \u001B[38;5;28;01mawait\u001B[39;00m asyncio\u001B[38;5;241m.\u001B[39msleep(sleep \u001B[38;5;241m*\u001B[39m i)  \u001B[38;5;66;03m# Use asyncio.sleep for async compatibility\u001B[39;00m\n\u001B[0;32m      5\u001B[0m     \u001B[38;5;28;01mtry\u001B[39;00m:\n\u001B[0;32m      6\u001B[0m         \u001B[38;5;28;01masync\u001B[39;00m \u001B[38;5;28;01mwith\u001B[39;00m async_playwright() \u001B[38;5;28;01mas\u001B[39;00m p:\n",
      "File \u001B[1;32m~\\anaconda3\\Lib\\asyncio\\tasks.py:639\u001B[0m, in \u001B[0;36msleep\u001B[1;34m(delay, result)\u001B[0m\n\u001B[0;32m    635\u001B[0m h \u001B[38;5;241m=\u001B[39m loop\u001B[38;5;241m.\u001B[39mcall_later(delay,\n\u001B[0;32m    636\u001B[0m                     futures\u001B[38;5;241m.\u001B[39m_set_result_unless_cancelled,\n\u001B[0;32m    637\u001B[0m                     future, result)\n\u001B[0;32m    638\u001B[0m \u001B[38;5;28;01mtry\u001B[39;00m:\n\u001B[1;32m--> 639\u001B[0m     \u001B[38;5;28;01mreturn\u001B[39;00m \u001B[38;5;28;01mawait\u001B[39;00m future\n\u001B[0;32m    640\u001B[0m \u001B[38;5;28;01mfinally\u001B[39;00m:\n\u001B[0;32m    641\u001B[0m     h\u001B[38;5;241m.\u001B[39mcancel()\n",
      "\u001B[1;31mCancelledError\u001B[0m: "
     ]
    }
   ],
   "source": [
    "for season in SEASONS:\n",
    "    await scrape_season(season)"
   ]
  }
 ],
 "metadata": {
  "kernelspec": {
   "display_name": "Python 3",
   "language": "python",
   "name": "python3"
  },
  "language_info": {
   "codemirror_mode": {
    "name": "ipython",
    "version": 3
   },
   "file_extension": ".py",
   "mimetype": "text/x-python",
   "name": "python",
   "nbconvert_exporter": "python",
   "pygments_lexer": "ipython3",
   "version": "3.12.2"
  }
 },
 "nbformat": 4,
 "nbformat_minor": 2
}
